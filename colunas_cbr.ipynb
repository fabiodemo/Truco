{
 "cells": [
  {
   "cell_type": "code",
   "execution_count": 1,
   "metadata": {},
   "outputs": [],
   "source": [
    "import pandas as pd\n",
    "import numpy as np"
   ]
  },
  {
   "cell_type": "code",
   "execution_count": 12,
   "metadata": {},
   "outputs": [],
   "source": [
    "colunas = ['jogadorMao', 'cartaAltaRobo', 'cartaMediaRobo', 'cartaBaixaRobo', 'cartaAltaHumano', 'cartaMediaHumano', 'cartaBaixaHumano', 'primeiraCartaRobo', 'primeiraCartaHumano', 'segundaCartaRobo', 'segundaCartaHumano', 'terceiraCartaRobo', 'terceiraCartaHumano', 'ganhadorPrimeiraRodada', 'ganhadorSegundaRodada', 'ganhadorTerceiraRodada', 'quemPediuEnvido', 'quemPediuFaltaEnvido', 'quemPediuRealEnvido', 'pontosEnvidoRobo', 'pontosEnvidoHumano', 'quemNegouEnvido', 'quemGanhouEnvido', 'quemFlor', 'quemContraFlor', 'quemContraFlorResto', 'quemNegouFlor', 'pontosFlorRobo', 'pontosFlorHumano', 'quemGanhouFlor', 'quemEscondeuPontosEnvido', 'quemEscondeuPontosFlor', 'quemTruco', 'quemRetruco', 'quemValeQuatro', 'quemNegouTruco', 'quemGanhouTruco','quemEnvido', 'quemFlor', 'naipeCartaAltaRobo', 'naipeCartaMediaRobo', 'naipeCartaBaixaRobo', 'naipeCartaAltaHumano', 'naipeCartaMediaHumano', 'naipeCartaBaixaHumano', 'naipePrimeiraCartaRobo', 'naipePrimeiraCartaHumano', 'naipeSegundaCartaRobo', 'naipeSegundaCartaHumano', 'naipeTerceiraCartaRobo', 'naipeTerceiraCartaHumano', 'qualidadeMaoRobo', 'qualidadeMaoHumano']"
   ]
  },
  {
   "cell_type": "code",
   "execution_count": 13,
   "metadata": {},
   "outputs": [
    {
     "data": {
      "text/html": [
       "<div>\n",
       "<style scoped>\n",
       "    .dataframe tbody tr th:only-of-type {\n",
       "        vertical-align: middle;\n",
       "    }\n",
       "\n",
       "    .dataframe tbody tr th {\n",
       "        vertical-align: top;\n",
       "    }\n",
       "\n",
       "    .dataframe thead th {\n",
       "        text-align: right;\n",
       "    }\n",
       "</style>\n",
       "<table border=\"1\" class=\"dataframe\">\n",
       "  <thead>\n",
       "    <tr style=\"text-align: right;\">\n",
       "      <th></th>\n",
       "      <th>jogadorMao</th>\n",
       "      <th>cartaAltaRobo</th>\n",
       "      <th>cartaMediaRobo</th>\n",
       "      <th>cartaBaixaRobo</th>\n",
       "      <th>cartaAltaHumano</th>\n",
       "      <th>cartaMediaHumano</th>\n",
       "      <th>cartaBaixaHumano</th>\n",
       "      <th>primeiraCartaRobo</th>\n",
       "      <th>primeiraCartaHumano</th>\n",
       "      <th>segundaCartaRobo</th>\n",
       "      <th>...</th>\n",
       "      <th>naipeCartaMediaHumano</th>\n",
       "      <th>naipeCartaBaixaHumano</th>\n",
       "      <th>naipePrimeiraCartaRobo</th>\n",
       "      <th>naipePrimeiraCartaHumano</th>\n",
       "      <th>naipeSegundaCartaRobo</th>\n",
       "      <th>naipeSegundaCartaHumano</th>\n",
       "      <th>naipeTerceiraCartaRobo</th>\n",
       "      <th>naipeTerceiraCartaHumano</th>\n",
       "      <th>qualidadeMaoRobo</th>\n",
       "      <th>qualidadeMaoHumano</th>\n",
       "    </tr>\n",
       "  </thead>\n",
       "  <tbody>\n",
       "  </tbody>\n",
       "</table>\n",
       "<p>0 rows × 53 columns</p>\n",
       "</div>"
      ],
      "text/plain": [
       "Empty DataFrame\n",
       "Columns: [jogadorMao, cartaAltaRobo, cartaMediaRobo, cartaBaixaRobo, cartaAltaHumano, cartaMediaHumano, cartaBaixaHumano, primeiraCartaRobo, primeiraCartaHumano, segundaCartaRobo, segundaCartaHumano, terceiraCartaRobo, terceiraCartaHumano, ganhadorPrimeiraRodada, ganhadorSegundaRodada, ganhadorTerceiraRodada, quemPediuEnvido, quemPediuFaltaEnvido, quemPediuRealEnvido, pontosEnvidoRobo, pontosEnvidoHumano, quemNegouEnvido, quemGanhouEnvido, quemFlor, quemContraFlor, quemContraFlorResto, quemNegouFlor, pontosFlorRobo, pontosFlorHumano, quemGanhouFlor, quemEscondeuPontosEnvido, quemEscondeuPontosFlor, quemTruco, quemRetruco, quemValeQuatro, quemNegouTruco, quemGanhouTruco, quemEnvido, quemFlor, naipeCartaAltaRobo, naipeCartaMediaRobo, naipeCartaBaixaRobo, naipeCartaAltaHumano, naipeCartaMediaHumano, naipeCartaBaixaHumano, naipePrimeiraCartaRobo, naipePrimeiraCartaHumano, naipeSegundaCartaRobo, naipeSegundaCartaHumano, naipeTerceiraCartaRobo, naipeTerceiraCartaHumano, qualidadeMaoRobo, qualidadeMaoHumano]\n",
       "Index: []\n",
       "\n",
       "[0 rows x 53 columns]"
      ]
     },
     "execution_count": 13,
     "metadata": {},
     "output_type": "execute_result"
    }
   ],
   "source": [
    "pd.DataFrame(columns=colunas)"
   ]
  },
  {
   "cell_type": "code",
   "execution_count": null,
   "metadata": {},
   "outputs": [],
   "source": []
  }
 ],
 "metadata": {
  "kernelspec": {
   "display_name": "truco",
   "language": "python",
   "name": "python3"
  },
  "language_info": {
   "codemirror_mode": {
    "name": "ipython",
    "version": 3
   },
   "file_extension": ".py",
   "mimetype": "text/x-python",
   "name": "python",
   "nbconvert_exporter": "python",
   "pygments_lexer": "ipython3",
   "version": "3.9.5 (default, Jun  4 2021, 12:28:51) \n[GCC 7.5.0]"
  },
  "orig_nbformat": 4,
  "vscode": {
   "interpreter": {
    "hash": "dafeb004166739a072eb4f09bc6163cac806868b1191ad99d57ba1a86bd5e082"
   }
  }
 },
 "nbformat": 4,
 "nbformat_minor": 2
}
