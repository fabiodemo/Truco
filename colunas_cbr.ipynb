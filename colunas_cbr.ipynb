{
 "cells": [
  {
   "cell_type": "code",
   "execution_count": 2,
   "metadata": {},
   "outputs": [],
   "source": [
    "import pandas as pd\n",
    "import numpy as np"
   ]
  },
  {
   "cell_type": "code",
   "execution_count": null,
   "metadata": {},
   "outputs": [],
   "source": [
    "data = [['CartaHumanoPrimeiraRodada', 10], ['CartaHumanoSegundaRodada', np.nan], ['CartaHumanoPrimeiraRodada', 14], ['CartaRoboPrimeiraRodada', ''], ['CartaRoboPrimeiraRodada', ''], ['CartaRoboPrimeiraRodada', ''], ['', '']]\n",
    "  \n",
    "df = pd.DataFrame(data, columns=['Name', 'Age'])"
   ]
  }
 ],
 "metadata": {
  "kernelspec": {
   "display_name": "truco",
   "language": "python",
   "name": "python3"
  },
  "language_info": {
   "codemirror_mode": {
    "name": "ipython",
    "version": 3
   },
   "file_extension": ".py",
   "mimetype": "text/x-python",
   "name": "python",
   "nbconvert_exporter": "python",
   "pygments_lexer": "ipython3",
   "version": "3.9.5 (default, Jun  4 2021, 12:28:51) \n[GCC 7.5.0]"
  },
  "orig_nbformat": 4,
  "vscode": {
   "interpreter": {
    "hash": "dafeb004166739a072eb4f09bc6163cac806868b1191ad99d57ba1a86bd5e082"
   }
  }
 },
 "nbformat": 4,
 "nbformat_minor": 2
}
