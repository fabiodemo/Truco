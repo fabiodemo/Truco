{
 "cells": [
  {
   "cell_type": "code",
   "execution_count": 3,
   "metadata": {},
   "outputs": [],
   "source": [
    "import pyCardDeck"
   ]
  },
  {
   "cell_type": "code",
   "execution_count": 4,
   "metadata": {},
   "outputs": [
    {
     "ename": "ModuleNotFoundError",
     "evalue": "No module named 'trucodeck'",
     "output_type": "error",
     "traceback": [
      "\u001b[0;31m---------------------------------------------------------------------------\u001b[0m",
      "\u001b[0;31mModuleNotFoundError\u001b[0m                       Traceback (most recent call last)",
      "Cell \u001b[0;32mIn [4], line 5\u001b[0m\n\u001b[1;32m      3\u001b[0m \u001b[39mimport\u001b[39;00m \u001b[39mpyCardDeck\u001b[39;00m\n\u001b[1;32m      4\u001b[0m \u001b[39mfrom\u001b[39;00m \u001b[39mtyping\u001b[39;00m \u001b[39mimport\u001b[39;00m List\n\u001b[0;32m----> 5\u001b[0m \u001b[39mfrom\u001b[39;00m \u001b[39mtrucodeck\u001b[39;00m \u001b[39mimport\u001b[39;00m \u001b[39m*\u001b[39m\n\u001b[1;32m      6\u001b[0m \u001b[39mimport\u001b[39;00m \u001b[39munittest\u001b[39;00m\n\u001b[1;32m      8\u001b[0m \u001b[39mclass\u001b[39;00m \u001b[39mTrucoDeckTests\u001b[39;00m(unittest\u001b[39m.\u001b[39mTestCase):\n",
      "\u001b[0;31mModuleNotFoundError\u001b[0m: No module named 'trucodeck'"
     ]
    }
   ],
   "source": [
    "# # ToDo Write the tests for the following:\n",
    "import random\n",
    "import pyCardDeck\n",
    "from typing import List\n",
    "from trucodeck import *\n",
    "import unittest\n",
    "\n",
    "class TrucoDeckTests(unittest.TestCase):\n",
    "\n",
    "    def test_mydeck(self):\n",
    "        my_truco = pyCardDeck.Deck(generate_deck(),name=\"Truco Sujo\", reshuffle=False)\n",
    "        self.assertEqual(len(my_truco),40) # True\n",
    "        carta0 = my_truco.draw_specific(\"Três de Ouros\")\n",
    "        carta1 = my_truco.draw_specific(\"Três de Espadas\")\n",
    "        carta2 = my_truco.draw_specific(\"Três de Copas\")\n",
    "        carta3 = my_truco.draw_specific(\"Três de Paus\")\n",
    "\n",
    "        carta4 = my_truco.draw_random()\n",
    "        carta5 = my_truco.draw_bottom()\n",
    "\n",
    "        self.assertEqual(carta0.name , \"Três de Ouros\" )# True\n",
    "        self.assertEqual(carta0.suit , 1 )# True\n",
    "        self.assertEqual(carta0.suit_name , \"Ouros\" )# True\n",
    "\n",
    "        self.assertEqual(carta1.name , \"Três de Espadas\" )# True\n",
    "        self.assertEqual(carta1.suit , 2) # True\n",
    "        self.assertEqual(carta1.suit_name , \"Espadas\") # True\n",
    "\n",
    "        self.assertEqual(carta2.name , \"Três de Copas\") # True\n",
    "        self.assertEqual(carta2.suit , 3 )# True\n",
    "        self.assertEqual(carta2.suit_name , \"Copas\") # True\n",
    "\n",
    "        self.assertEqual(carta3.name , \"Três de Paus\") # True\n",
    "        self.assertEqual(carta3.suit , 4) # True\n",
    "        self.assertEqual(carta3.suit_name , \"Paus\") # True\n",
    "\n",
    "        self.assertEqual(carta1.rank , carta2.rank)\n",
    "        self.assertEqual(carta0.rank , carta3.rank) # True\n",
    "        self.assertNotEqual(carta1, carta2) # False\n",
    "        self.assertEqual(carta1 > carta2,0) # 0\n",
    "        self.assertEqual(carta0.suit < carta1.suit, True) #True\n",
    "        self.assertEqual(carta1.suit < carta2.suit, True) #True\n",
    "        self.assertEqual(carta2.suit < carta3.suit, True) #True\n",
    "        self.assertEqual(carta3.suit > carta0.suit, True) #True\n",
    "        self.assertEqual(carta0 > carta4, True) # True\n",
    "\n",
    "        cartas = [carta1, carta2 , carta3, carta4, carta5, carta0]\n",
    "        print(cartas)\n",
    "        random.shuffle(cartas)\n",
    "        cartas.sort()\n",
    "        self.assertEqual(len(my_truco),34) # True\n",
    "\n",
    "        tres = [carta1,carta2,carta3,carta0]\n",
    "        print(*tres, sep= \", \") # Três de Espadas, Três de Copas, Três de Paus, Três de Ouros\n",
    "        tres.sort(key= lambda x: x.suit)\n",
    "        print(*tres, sep= \", \") # Três de Ouros, Três de Espadas, Três de Copas, Três de Paus\n",
    "\n",
    "\n",
    "\n",
    "\n",
    "# Study of how to pass an information from outer class to inner class.\n",
    "#\n",
    "# class Human:\n",
    "#     def __init__(self):\n",
    "#         self.name = 'Guido'\n",
    "#         self.head = self.createHead()\n",
    "#     def createHead(self):\n",
    "#         return Human.Head(self)\n",
    "#     class Head:\n",
    "#         def __init__(self, human):\n",
    "#             self.human = human\n",
    "#         def talk(self):\n",
    "#             return 'talking...', self.human.name\n",
    "#\n",
    "#\n",
    "# guido = Human()\n",
    "# guido.name\n",
    "# guido.head.talk()\n",
    "# guido.name = \"Power Guido\"\n",
    "# guido.head.talk()\n"
   ]
  },
  {
   "cell_type": "code",
   "execution_count": 7,
   "metadata": {},
   "outputs": [],
   "source": [
    "from typing import List\n",
    "from pyCardDeck.cards import BaseCard\n",
    "\n",
    "\n",
    "class TrucoCard(BaseCard):\n",
    "    def __init__(self, suit: str, rank: str, name: str):\n",
    "        # Define self.name through BaseCard Class\n",
    "        super().__init__(\"{} de {}\".format(name, suit[1][0]))\n",
    "        self.suit = suit[0]\n",
    "        self.suit_name = suit[1][0]\n",
    "        self.suit_symbol = suit[1][1]\n",
    "        self.rank = rank\n",
    "    def __str__(self):\n",
    "        return \"[{}{}] {}\".format(self.rank, self.suit_symbol, self.name)\n",
    "    def __eq__(self, other):\n",
    "        return self.name == other\n",
    "    def __ge__(self, other):\n",
    "        ranks = ['4', '5', '6', '7', 'Q', 'J', 'K', 'A', '2', '3']\n",
    "        # Compare Ranks\n",
    "        if ranks.index(self.rank) < ranks.index(other.rank):\n",
    "            return False\n",
    "        elif ranks.index(self.rank) >= ranks.index(other.rank):\n",
    "            return True\n",
    "        else:\n",
    "            return 0\n",
    "    def __gt__(self, other):\n",
    "        ranks = ['4', '5', '6', '7', 'Q', 'J', 'K', 'A', '2', '3']\n",
    "        # Compare Ranks\n",
    "        if ranks.index(self.rank) < ranks.index(other.rank):\n",
    "            return False\n",
    "        elif ranks.index(self.rank) > ranks.index(other.rank):\n",
    "            return True\n",
    "        else:\n",
    "            return 0\n",
    "\n",
    "def ranks_names(rank= None):\n",
    "    ranks = {'4': 'Quatro', '5': 'Cinco', '6': 'Seis', '7': 'Sete', 'Q': 'Dama', 'J': 'Valete',\n",
    "     'K': 'Rei', 'A': 'Ás', '2': 'Dois', '3': 'Três'}\n",
    "    if rank:\n",
    "        return ranks[rank]\n",
    "    return ranks\n",
    "\n",
    "def generate_deck(sujo=True) -> List[TrucoCard]:\n",
    "    \"\"\"\n",
    "    Function that generates the deck, instead of writing down all cards, we use iteration\n",
    "    to generate the cards for use\n",
    "    :return:    List with all (24/40) cards for truco playing cards\n",
    "    :rtype:     List[TrucoCard]\n",
    "    \"\"\"\n",
    "    if sujo:\n",
    "        # ♠♣♥♦\n",
    "        suits = {1: ['Ouros', '♦'] , 2: ['Espadas', \"♠\"], 3: ['Copas', \"♥\"], 4: ['Paus',\"♣\"]}\n",
    "        # suits = {1: 'Ouros ♦', 2: 'Espadas ♠', 3: 'Copas ♥', 4: 'Paus ♣'}\n",
    "        ranks = ranks_names()\n",
    "    if not sujo:\n",
    "        suits = {1: 'Ouros', 2: 'Espadas', 3: 'Copas', 4: 'Paus'}\n",
    "        ranks = {'Q': 'Dama',\n",
    "                 'J': 'Valete',\n",
    "                 'K': 'Rei',\n",
    "                 'A': 'Ás',\n",
    "                 '2': 'Dois',\n",
    "                 '3': 'Três'}\n",
    "    cards = []\n",
    "    for suit in suits.items():\n",
    "        for rank, name in ranks.items():\n",
    "            cards.append(TrucoCard(suit=suit,rank=rank,name=name))\n",
    "    return cards\n"
   ]
  },
  {
   "cell_type": "code",
   "execution_count": 8,
   "metadata": {},
   "outputs": [
    {
     "data": {
      "text/plain": [
       "__main__.TrucoCard"
      ]
     },
     "execution_count": 8,
     "metadata": {},
     "output_type": "execute_result"
    }
   ],
   "source": [
    "len(generate_deck())\n",
    "type(generate_deck()[0])"
   ]
  },
  {
   "cell_type": "code",
   "execution_count": 9,
   "metadata": {},
   "outputs": [
    {
     "data": {
      "text/plain": [
       "TrucoCard({'name': 'Quatro de Ouros', 'suit': 1, 'suit_name': 'Ouros', 'suit_symbol': '♦', 'rank': '4'})"
      ]
     },
     "execution_count": 9,
     "metadata": {},
     "output_type": "execute_result"
    }
   ],
   "source": [
    "generate_deck()[0]"
   ]
  },
  {
   "cell_type": "code",
   "execution_count": 10,
   "metadata": {},
   "outputs": [
    {
     "data": {
      "text/plain": [
       "'4'"
      ]
     },
     "execution_count": 10,
     "metadata": {},
     "output_type": "execute_result"
    }
   ],
   "source": [
    "getattr(generate_deck()[0], 'rank')"
   ]
  },
  {
   "cell_type": "code",
   "execution_count": 11,
   "metadata": {},
   "outputs": [
    {
     "name": "stdout",
     "output_type": "stream",
     "text": [
      "Quatro de Ouros 4\n",
      "Cinco de Ouros 5\n",
      "Seis de Ouros 6\n",
      "Sete de Ouros 7\n",
      "Dama de Ouros Q\n",
      "Valete de Ouros J\n",
      "Rei de Ouros K\n",
      "Ás de Ouros A\n",
      "Dois de Ouros 2\n",
      "Três de Ouros 3\n",
      "Quatro de Espadas 4\n",
      "Cinco de Espadas 5\n",
      "Seis de Espadas 6\n",
      "Sete de Espadas 7\n",
      "Dama de Espadas Q\n",
      "Valete de Espadas J\n",
      "Rei de Espadas K\n",
      "Ás de Espadas A\n",
      "Dois de Espadas 2\n",
      "Três de Espadas 3\n",
      "Quatro de Copas 4\n",
      "Cinco de Copas 5\n",
      "Seis de Copas 6\n",
      "Sete de Copas 7\n",
      "Dama de Copas Q\n",
      "Valete de Copas J\n",
      "Rei de Copas K\n",
      "Ás de Copas A\n",
      "Dois de Copas 2\n",
      "Três de Copas 3\n",
      "Quatro de Paus 4\n",
      "Cinco de Paus 5\n",
      "Seis de Paus 6\n",
      "Sete de Paus 7\n",
      "Dama de Paus Q\n",
      "Valete de Paus J\n",
      "Rei de Paus K\n",
      "Ás de Paus A\n",
      "Dois de Paus 2\n",
      "Três de Paus 3\n"
     ]
    }
   ],
   "source": [
    "deck = generate_deck()\n",
    "for i in deck:\n",
    "    print(getattr(i, 'name'), getattr(i, 'rank'))"
   ]
  },
  {
   "cell_type": "code",
   "execution_count": null,
   "metadata": {},
   "outputs": [],
   "source": []
  }
 ],
 "metadata": {
  "kernelspec": {
   "display_name": "Python 3.10.8 ('truco')",
   "language": "python",
   "name": "python3"
  },
  "language_info": {
   "codemirror_mode": {
    "name": "ipython",
    "version": 3
   },
   "file_extension": ".py",
   "mimetype": "text/x-python",
   "name": "python",
   "nbconvert_exporter": "python",
   "pygments_lexer": "ipython3",
   "version": "3.10.8"
  },
  "orig_nbformat": 4,
  "vscode": {
   "interpreter": {
    "hash": "dafeb004166739a072eb4f09bc6163cac806868b1191ad99d57ba1a86bd5e082"
   }
  }
 },
 "nbformat": 4,
 "nbformat_minor": 2
}
